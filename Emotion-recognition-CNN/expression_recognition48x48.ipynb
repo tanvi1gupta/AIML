{
 "cells": [
  {
   "cell_type": "code",
   "execution_count": 19,
   "metadata": {
    "collapsed": true
   },
   "outputs": [],
   "source": [
    "%matplotlib inline\n",
    "import torchvision\n",
    "import torchvision.datasets as dset\n",
    "import torchvision.transforms as transforms\n",
    "from torch.utils.data import DataLoader,Dataset\n",
    "import matplotlib.pyplot as plt\n",
    "import torchvision.utils\n",
    "import numpy as np\n",
    "import random\n",
    "from PIL import Image\n",
    "import torch\n",
    "from torch.autograd import Variable\n",
    "import PIL.ImageOps    \n",
    "import torch.nn as nn\n",
    "from torch import optim\n",
    "import torch.nn.functional as F"
   ]
  },
  {
   "cell_type": "code",
   "execution_count": 20,
   "metadata": {
    "collapsed": true
   },
   "outputs": [],
   "source": [
    "def imshow(img,text=None,should_save=False):\n",
    "    npimg = img.numpy()\n",
    "    plt.axis(\"off\")\n",
    "    if text:\n",
    "        plt.text(75, 8, text, style='italic',fontweight='bold',\n",
    "            bbox={'facecolor':'white', 'alpha':0.8, 'pad':10})\n",
    "    plt.imshow(np.transpose(npimg, (1, 2, 0)))\n",
    "    plt.show()    \n",
    "\n",
    "def show_plot(iteration,loss):\n",
    "    plt.plot(iteration,loss)\n",
    "    plt.show()\n",
    "    \n",
    "\n",
    "training_dir = \"HackathonIII/Expression_data/Facial_expression_train/\"\n",
    "testing_dir = \"HackathonIII/Expression_data/Facial_expression_test/\"\n",
    "train_batch_size = 100\n",
    "test_batch_size = 10\n",
    "train_number_epochs = 100"
   ]
  },
  {
   "cell_type": "code",
   "execution_count": 35,
   "metadata": {
    "collapsed": false
   },
   "outputs": [],
   "source": [
    "train_data = torchvision.datasets.ImageFolder(training_dir, transform=transforms.Compose([transforms.Resize((48,48)),\n",
    "                                                                                         transforms.Grayscale(num_output_channels=1),\n",
    "                                                                      transforms.ToTensor()\n",
    "                                                                      ]))\n",
    "classes = train_data.classes\n",
    "\n"
   ]
  },
  {
   "cell_type": "code",
   "execution_count": 40,
   "metadata": {
    "collapsed": true
   },
   "outputs": [],
   "source": [
    "test_data = torchvision.datasets.ImageFolder(testing_dir, transform=transforms.Compose([transforms.Resize((48,48)),\n",
    "                                                                                         transforms.Grayscale(num_output_channels=1),\n",
    "                                                                      transforms.ToTensor()\n",
    "                                                                      ]))"
   ]
  },
  {
   "cell_type": "code",
   "execution_count": 41,
   "metadata": {
    "collapsed": false
   },
   "outputs": [],
   "source": [
    "from torchvision import transforms\n",
    "\n",
    "\n",
    "train_loader = torch.utils.data.DataLoader(train_data,\n",
    "                                          batch_size=train_batch_size,\n",
    "                                          shuffle=True,\n",
    "                                          num_workers=1)\n",
    "\n",
    "test_loader = torch.utils.data.DataLoader(test_data,\n",
    "                                          batch_size=test_batch_size,\n",
    "                                          shuffle=False,\n",
    "                                          num_workers=1)"
   ]
  },
  {
   "cell_type": "code",
   "execution_count": 42,
   "metadata": {
    "collapsed": false
   },
   "outputs": [
    {
     "name": "stdout",
     "output_type": "stream",
     "text": [
      "Mini batch size: images - torch.Size([100, 1, 48, 48])  labels -  torch.Size([100])\n",
      "torch.Size([1, 48, 48]) tensor(1)\n"
     ]
    },
    {
     "data": {
      "image/png": "[encoded data removed]",
      "text/plain": [
       "<matplotlib.figure.Figure at 0x116539f60>"
      ]
     },
     "metadata": {},
     "output_type": "display_data"
    },
    {
     "name": "stdout",
     "output_type": "stream",
     "text": [
      "torch.Size([1, 48, 48]) tensor(4)\n"
     ]
    },
    {
     "data": {
      "image/png": "[encoded data removed]",
      "text/plain": [
       "<matplotlib.figure.Figure at 0x117e79ac8>"
      ]
     },
     "metadata": {},
     "output_type": "display_data"
    },
    {
     "name": "stdout",
     "output_type": "stream",
     "text": [
      "Mini batch size: images - torch.Size([100, 1, 48, 48])  labels -  torch.Size([100])\n",
      "torch.Size([1, 48, 48]) tensor(0)\n"
     ]
    },
    {
     "data": {
      "image/png": "[encoded data removed]",
      "text/plain": [
       "<matplotlib.figure.Figure at 0x1185bfac8>"
      ]
     },
     "metadata": {},
     "output_type": "display_data"
    },
    {
     "name": "stdout",
     "output_type": "stream",
     "text": [
      "torch.Size([1, 48, 48]) tensor(0)\n"
     ]
    },
    {
     "data": {
      "image/png": "[encoded data removed]",
      "text/plain": [
       "<matplotlib.figure.Figure at 0x11669efd0>"
      ]
     },
     "metadata": {},
     "output_type": "display_data"
    }
   ],
   "source": [
    "count = 0\n",
    "for mini_batch in train_loader:\n",
    "    images, labels = mini_batch\n",
    "    print('Mini batch size: images -', images.size(), ' labels - ', labels.size())\n",
    "    for j in range(train_batch_size):\n",
    "        print(images[j].size(), labels[j])\n",
    "        plt.imshow(images[j][0].numpy(), cmap='gray')\n",
    "        plt.title('Label : %i' % labels[j])\n",
    "        plt.show()\n",
    "\n",
    "# Some logic to break the loops so that we dont print the whole dataset.\n",
    "        if j == 1:\n",
    "            break\n",
    "    if count == 1:\n",
    "        break\n",
    "        \n",
    "    count +=1"
   ]
  },
  {
   "cell_type": "code",
   "execution_count": 27,
   "metadata": {
    "collapsed": true
   },
   "outputs": [],
   "source": [
    "# A CNN based Feature extractor\n",
    "# Definining neural network in python by a class which inherits from nn.Module\n",
    "class LeNet(nn.Module):\n",
    "    \"\"\"LeNet feature extractor model.\"\"\"\n",
    "\n",
    "    def __init__(self):\n",
    "        \"\"\"Init LeNet feature extractor model.\"\"\"\n",
    "        super(LeNet, self).__init__()\n",
    "\n",
    "        # Defining the CNNfeature Extractor\n",
    "        self.feature_extractor = nn.Sequential(\n",
    "            # input [1 x 128 x 128]\n",
    "            #[1 x 48 x 48]\n",
    "            # 1st conv layer\n",
    "            # Conv which convolves input image with 6 filters of 5x5 size, without padding\n",
    "            nn.Conv2d(1, 6, kernel_size=5),\n",
    "            # [6 x 124 x 124]\n",
    "            # [6 x 44 x 44]\n",
    "            nn.MaxPool2d(kernel_size=2), # Max pooling subsampling operation\n",
    "            # [6 x 62 x 62]\n",
    "            # [6 x 22 x 22]\n",
    "            nn.ReLU(), # Non linear activation function\n",
    "            # 2nd conv layer\n",
    "            # input [6 x 62 x 62], [6 x 22 x 22]\n",
    "            # Conv which convolves input image with 16 filters of 5x5 size, without padding\n",
    "            nn.Conv2d(6, 16, kernel_size=5),\n",
    "            # [16 x 58 x 58]\n",
    "            # [16 x 18 x 18]\n",
    "            nn.MaxPool2d(kernel_size=2),\n",
    "            # [16 x 29 x 29]\n",
    "            #[16 x 9 x 9]\n",
    "            nn.ReLU()\n",
    "        )\n",
    "        \n",
    "        # Defining the Classifier\n",
    "        self.classifier = nn.Sequential(\n",
    "            # Linear layer with 120 nodes, taking a flattened [16 x 4 x 4] as input\n",
    "            #nn.Linear(16 * 29 * 29, 120),\n",
    "            nn.Linear(16 * 9 * 9, 120),\n",
    "            # Linear layer with 84 nodes\n",
    "            nn.Linear(120, 84),\n",
    "            # ReLU\n",
    "            nn.ReLU(),\n",
    "            # Output layer with as many nodes as number of classes\n",
    "            nn.Linear(84, 7)\n",
    "        )\n",
    "        \n",
    "    def forward(self, input):\n",
    "        \"\"\"Define a Forward pass of the LeNet.\"\"\"\n",
    "        out = self.feature_extractor(input) # Pass input through the feature extractor\n",
    "        #out = out.view(-1, 16 * 29 * 29) # Reshape the 2D to a vector\n",
    "        out = out.view(-1, 16 * 9 * 9) # Reshape the 2D to a vector\n",
    "        out = self.classifier(out) # pass features through the classifier to get predictions\n",
    "        return out"
   ]
  },
  {
   "cell_type": "code",
   "execution_count": 28,
   "metadata": {
    "collapsed": false
   },
   "outputs": [
    {
     "name": "stdout",
     "output_type": "stream",
     "text": [
      "feature_extractor.0.weight \n",
      " torch.Size([6, 1, 5, 5]) \n",
      "\n",
      "feature_extractor.0.bias \n",
      " torch.Size([6]) \n",
      "\n",
      "feature_extractor.3.weight \n",
      " torch.Size([16, 6, 5, 5]) \n",
      "\n",
      "feature_extractor.3.bias \n",
      " torch.Size([16]) \n",
      "\n",
      "classifier.0.weight \n",
      " torch.Size([120, 1296]) \n",
      "\n",
      "classifier.0.bias \n",
      " torch.Size([120]) \n",
      "\n",
      "classifier.1.weight \n",
      " torch.Size([84, 120]) \n",
      "\n",
      "classifier.1.bias \n",
      " torch.Size([84]) \n",
      "\n",
      "classifier.3.weight \n",
      " torch.Size([7, 84]) \n",
      "\n",
      "classifier.3.bias \n",
      " torch.Size([7]) \n",
      "\n"
     ]
    }
   ],
   "source": [
    "lenet = LeNet()\n",
    "\n",
    "\n",
    "device = torch.device(\"cuda:0\" if torch.cuda.is_available() else \"cpu\")\n",
    "\n",
    "lenet = lenet.to(device)\n",
    "\n",
    "# Print out the size of parameters of each layer\n",
    "for name, param in lenet.state_dict().items():\n",
    "    print(name, '\\n', param.size(), '\\n')"
   ]
  },
  {
   "cell_type": "code",
   "execution_count": 29,
   "metadata": {
    "collapsed": false
   },
   "outputs": [
    {
     "data": {
      "text/plain": [
       "100"
      ]
     },
     "execution_count": 29,
     "metadata": {},
     "output_type": "execute_result"
    }
   ],
   "source": [
    "train_loader.batch_size"
   ]
  },
  {
   "cell_type": "code",
   "execution_count": 31,
   "metadata": {
    "collapsed": false
   },
   "outputs": [],
   "source": [
    "epoch = 40\n",
    "loss_history = []\n",
    "lenet = LeNet()\n",
    "# The number of times we should iterate over the training data. 1 epoch = 1 pass over the training data\n",
    "\n",
    "loss_func = nn.CrossEntropyLoss()\n",
    "\n",
    "# Set the learning rate\n",
    "learning_rate = 0.001\n",
    "\n",
    "optimizer = torch.optim.Adam(lenet.parameters(), lr=learning_rate)\n"
   ]
  },
  {
   "cell_type": "code",
   "execution_count": 47,
   "metadata": {
    "collapsed": false
   },
   "outputs": [
    {
     "name": "stdout",
     "output_type": "stream",
     "text": [
      "####### Epoch  0\n",
      "loss so far:  0.5632292032241821\n",
      "loss so far:  0.5588559508323669\n",
      "batch completed 109\n",
      "####### Epoch  1\n",
      "loss so far:  0.4255548417568207\n",
      "loss so far:  0.42600494623184204\n",
      "batch completed 109\n",
      "####### Epoch  2\n",
      "loss so far:  0.5394250750541687\n",
      "loss so far:  0.5189799666404724\n",
      "batch completed 109\n",
      "####### Epoch  3\n",
      "loss so far:  0.38795334100723267\n",
      "loss so far:  0.589179277420044\n",
      "batch completed 109\n",
      "####### Epoch  4\n",
      "loss so far:  0.4301701784133911\n",
      "loss so far:  0.4713752865791321\n",
      "batch completed 109\n",
      "####### Epoch  5\n",
      "loss so far:  0.3287096917629242\n",
      "loss so far:  0.30681565403938293\n",
      "batch completed 109\n",
      "####### Epoch  6\n",
      "loss so far:  0.2712841331958771\n",
      "loss so far:  0.43994495272636414\n",
      "batch completed 109\n",
      "####### Epoch  7\n",
      "loss so far:  0.32753437757492065\n",
      "loss so far:  0.32429972290992737\n",
      "batch completed 109\n",
      "####### Epoch  8\n",
      "loss so far:  0.2383240908384323\n",
      "loss so far:  0.39489805698394775\n",
      "batch completed 109\n",
      "####### Epoch  9\n",
      "loss so far:  0.27723637223243713\n",
      "loss so far:  0.2829280197620392\n",
      "batch completed 109\n",
      "####### Epoch  10\n",
      "loss so far:  0.34303751587867737\n",
      "loss so far:  0.3139176666736603\n",
      "batch completed 109\n",
      "####### Epoch  11\n",
      "loss so far:  0.2587912082672119\n",
      "loss so far:  0.34067535400390625\n",
      "batch completed 109\n",
      "####### Epoch  12\n",
      "loss so far:  0.21398614346981049\n",
      "loss so far:  0.23713797330856323\n",
      "batch completed 109\n",
      "####### Epoch  13\n",
      "loss so far:  0.1462126225233078\n",
      "loss so far:  0.2867205739021301\n",
      "batch completed 109\n",
      "####### Epoch  14\n",
      "loss so far:  0.21749910712242126\n",
      "loss so far:  0.29169216752052307\n",
      "batch completed 109\n",
      "####### Epoch  15\n",
      "loss so far:  0.22710363566875458\n",
      "loss so far:  0.20531979203224182\n",
      "batch completed 109\n",
      "####### Epoch  16\n",
      "loss so far:  0.29236558079719543\n",
      "loss so far:  0.1606460064649582\n",
      "batch completed 109\n",
      "####### Epoch  17\n",
      "loss so far:  0.16155168414115906\n",
      "loss so far:  0.14397293329238892\n",
      "batch completed 109\n",
      "####### Epoch  18\n",
      "loss so far:  0.1886957287788391\n",
      "loss so far:  0.17546086013317108\n",
      "batch completed 109\n",
      "####### Epoch  19\n",
      "loss so far:  0.10545662045478821\n",
      "loss so far:  0.07931821048259735\n",
      "batch completed 109\n",
      "####### Epoch  20\n",
      "loss so far:  0.14687258005142212\n",
      "loss so far:  0.13702094554901123\n",
      "batch completed 109\n",
      "####### Epoch  21\n",
      "loss so far:  0.1614157259464264\n",
      "loss so far:  0.15831075608730316\n",
      "batch completed 109\n",
      "####### Epoch  22\n",
      "loss so far:  0.14879770576953888\n",
      "loss so far:  0.19482006132602692\n",
      "batch completed 109\n",
      "####### Epoch  23\n",
      "loss so far:  0.13903012871742249\n",
      "loss so far:  0.11246244609355927\n",
      "batch completed 109\n",
      "####### Epoch  24\n",
      "loss so far:  0.14172258973121643\n",
      "loss so far:  0.1971684694290161\n",
      "batch completed 109\n",
      "####### Epoch  25\n",
      "loss so far:  0.12585435807704926\n",
      "loss so far:  0.22676649689674377\n",
      "batch completed 109\n",
      "####### Epoch  26\n",
      "loss so far:  0.07677906006574631\n",
      "loss so far:  0.1915869116783142\n",
      "batch completed 109\n",
      "####### Epoch  27\n",
      "loss so far:  0.10076312720775604\n",
      "loss so far:  0.17145593464374542\n",
      "batch completed 109\n",
      "####### Epoch  28\n",
      "loss so far:  0.1506056785583496\n",
      "loss so far:  0.25517868995666504\n",
      "batch completed 109\n",
      "####### Epoch  29\n",
      "loss so far:  0.04831678792834282\n",
      "loss so far:  0.188461571931839\n",
      "batch completed 109\n",
      "####### Epoch  30\n",
      "loss so far:  0.08040710538625717\n",
      "loss so far:  0.21630533039569855\n",
      "batch completed 109\n",
      "####### Epoch  31\n",
      "loss so far:  0.12909050285816193\n",
      "loss so far:  0.09492979198694229\n",
      "batch completed 109\n",
      "####### Epoch  32\n",
      "loss so far:  0.17104361951351166\n",
      "loss so far:  0.1853250116109848\n",
      "batch completed 109\n",
      "####### Epoch  33\n",
      "loss so far:  0.11505798250436783\n",
      "loss so far:  0.09151631593704224\n",
      "batch completed 109\n",
      "####### Epoch  34\n",
      "loss so far:  0.07431082427501678\n",
      "loss so far:  0.19937534630298615\n",
      "batch completed 109\n",
      "####### Epoch  35\n",
      "loss so far:  0.11599835753440857\n",
      "loss so far:  0.20057305693626404\n",
      "batch completed 109\n",
      "####### Epoch  36\n",
      "loss so far:  0.10068713128566742\n",
      "loss so far:  0.08774011582136154\n",
      "batch completed 109\n",
      "####### Epoch  37\n",
      "loss so far:  0.07759803533554077\n",
      "loss so far:  0.12161094695329666\n",
      "batch completed 109\n",
      "####### Epoch  38\n",
      "loss so far:  0.09338297694921494\n",
      "loss so far:  0.26131561398506165\n",
      "batch completed 109\n",
      "####### Epoch  39\n",
      "loss so far:  0.0705958679318428\n",
      "loss so far:  0.1619698852300644\n",
      "batch completed 109\n"
     ]
    },
    {
     "data": {
      "image/png": "[encoded data removed]",
      "text/plain": [
       "<matplotlib.figure.Figure at 0x11822af60>"
      ]
     },
     "metadata": {},
     "output_type": "display_data"
    }
   ],
   "source": [
    "# optimizer = torch.optim.SGD(lenet.parameters(), lr=learning_rate, momentum=0.0)\n",
    "# Train Model with train data\n",
    "\n",
    "for i in range(epoch):\n",
    "    print('####### Epoch ', i)\n",
    "    for j,[image,label] in enumerate(train_loader):\n",
    "        # You can try with and without using GPUs, by setting this variable before the loop\n",
    "        #if use_gpu == \"cuda\":\n",
    "        image = image.to(device)\n",
    "        label = label.to(device)\n",
    "            \n",
    "        #image = image\n",
    "        #label = label\n",
    "        \n",
    "        \n",
    "        optimizer.zero_grad() # zero out the gradients from the preivous step \n",
    "        predictions = lenet.forward(image) # Do forward pass on the current mini batch\n",
    "        \n",
    "        loss = loss_func(predictions, label) # Compute loss on the current mini batch\n",
    "        loss.backward() # Do backward pass. That is compute all the gradients for the current minibatch\n",
    "        optimizer.step() # Update the parameters using the gradients with the learning rate\n",
    "        \n",
    "        if j % 100 == 0:\n",
    "            print(\"loss so far: \", loss.item())\n",
    "            loss_history.append(loss.item())\n",
    "                    \n",
    "        # display.clear_output(wait=True)\n",
    "    print(\"batch completed\", j)\n",
    "plt.plot(loss_history)\n",
    "plt.show()"
   ]
  },
  {
   "cell_type": "code",
   "execution_count": 48,
   "metadata": {
    "collapsed": false
   },
   "outputs": [
    {
     "data": {
      "image/png": "[encoded data removed]",
      "text/plain": [
       "<matplotlib.figure.Figure at 0x1166c7c18>"
      ]
     },
     "metadata": {},
     "output_type": "display_data"
    },
    {
     "name": "stdout",
     "output_type": "stream",
     "text": [
      "LeNet(\n",
      "  (feature_extractor): Sequential(\n",
      "    (0): Conv2d(1, 6, kernel_size=(5, 5), stride=(1, 1))\n",
      "    (1): MaxPool2d(kernel_size=2, stride=2, padding=0, dilation=1, ceil_mode=False)\n",
      "    (2): ReLU()\n",
      "    (3): Conv2d(6, 16, kernel_size=(5, 5), stride=(1, 1))\n",
      "    (4): MaxPool2d(kernel_size=2, stride=2, padding=0, dilation=1, ceil_mode=False)\n",
      "    (5): ReLU()\n",
      "  )\n",
      "  (classifier): Sequential(\n",
      "    (0): Linear(in_features=1296, out_features=120, bias=True)\n",
      "    (1): Linear(in_features=120, out_features=84, bias=True)\n",
      "    (2): ReLU()\n",
      "    (3): Linear(in_features=84, out_features=7, bias=True)\n",
      "  )\n",
      ")\n"
     ]
    }
   ],
   "source": [
    "plt.plot(loss_history)\n",
    "plt.show()\n",
    "print(lenet)"
   ]
  },
  {
   "cell_type": "code",
   "execution_count": 52,
   "metadata": {
    "collapsed": false
   },
   "outputs": [
    {
     "name": "stderr",
     "output_type": "stream",
     "text": [
      "/Users/tgupta2/anaconda3/lib/python3.6/site-packages/ipykernel/__main__.py:17: UserWarning: Implicit dimension choice for softmax has been deprecated. Change the call to include dim=X as an argument.\n"
     ]
    },
    {
     "name": "stdout",
     "output_type": "stream",
     "text": [
      "Accuracy of Test Data: 30.30%\n"
     ]
    }
   ],
   "source": [
    "correct = 0.0\n",
    "total = 0.0\n",
    "for mini_batch in test_loader:\n",
    "    images, labels = mini_batch\n",
    "    \n",
    "    # You can try with and without using GPUs, by setting this variable before the loop\n",
    "    #if use_gpu == \"cuda\":\n",
    "    #images = images.to(device)\n",
    "    #labels = labels.to(device)\n",
    "        \n",
    "    #images = images\n",
    "    \n",
    "    # Doing the Forward pass\n",
    "    #result = lenet(images)\n",
    "    result = lenet(images)\n",
    "    # Coverting the predictions to probabilities, by applying the softmax function\n",
    "    result = F.softmax(result)\n",
    " \n",
    "    # Finding the prediction with the largest probability\n",
    "    _,pred = torch.max(result.data,1)\n",
    "    #print(pred)\n",
    "    #print(labels)\n",
    "    total += labels.size(0)\n",
    "    # correct is incremented by the numer of prediction which are correct (equal to the ground truth labels)\n",
    "    correct += (pred == labels).sum().item()\n",
    "    \n",
    "print(\"Accuracy of Test Data: {0:.2f}%\".format(correct/total *100))"
   ]
  },
  {
   "cell_type": "code",
   "execution_count": 50,
   "metadata": {
    "collapsed": false
   },
   "outputs": [
    {
     "name": "stderr",
     "output_type": "stream",
     "text": [
      "/Users/tgupta2/anaconda3/lib/python3.6/site-packages/torch/serialization.py:241: UserWarning: Couldn't retrieve source code for container of type LeNet. It won't be checked for correctness upon loading.\n",
      "  \"type \" + obj.__name__ + \". It won't be checked \"\n"
     ]
    }
   ],
   "source": [
    "state = {\n",
    "            'net': lenet\n",
    "          \n",
    "        }\n",
    "\n",
    "\n",
    "torch.save(state, 'checkpoint_ckpt_48x48_84epochs_31_7Oct.t7')\n",
    "torch.save(lenet.state_dict(),'checkpoint_ckpt_48x48_84epochs_31_7Oct_dict.t7')\n"
   ]
  },
  {
   "cell_type": "code",
   "execution_count": 158,
   "metadata": {
    "collapsed": false
   },
   "outputs": [
    {
     "data": {
      "text/plain": [
       "LeNet(\n",
       "  (feature_extractor): Sequential(\n",
       "    (0): Conv2d(3, 6, kernel_size=(5, 5), stride=(1, 1))\n",
       "    (1): MaxPool2d(kernel_size=2, stride=2, padding=0, dilation=1, ceil_mode=False)\n",
       "    (2): ReLU()\n",
       "    (3): Conv2d(6, 16, kernel_size=(5, 5), stride=(1, 1))\n",
       "    (4): MaxPool2d(kernel_size=2, stride=2, padding=0, dilation=1, ceil_mode=False)\n",
       "    (5): ReLU()\n",
       "  )\n",
       "  (classifier): Sequential(\n",
       "    (0): Linear(in_features=1296, out_features=120, bias=True)\n",
       "    (1): Linear(in_features=120, out_features=84, bias=True)\n",
       "    (2): ReLU()\n",
       "    (3): Linear(in_features=84, out_features=7, bias=True)\n",
       "  )\n",
       ")"
      ]
     },
     "execution_count": 158,
     "metadata": {},
     "output_type": "execute_result"
    }
   ],
   "source": [
    "#feature_net2 = torch.load('checkpoint_ckpt_48x48_100epochs_allimages.t7')\n",
    "feature_net2['net']"
   ]
  },
  {
   "cell_type": "code",
   "execution_count": 53,
   "metadata": {
    "collapsed": false
   },
   "outputs": [],
   "source": [
    "test_data_me = torchvision.datasets.ImageFolder('HackathonIII/captured_images_with_Expression/', transform=transforms.Compose([transforms.Resize((48,48)),\n",
    "                                                                      transforms.Grayscale(num_output_channels=1), transforms.ToTensor()\n",
    "                                                                      ]))\n",
    "test_loader_me = torch.utils.data.DataLoader(test_data_me,\n",
    "                                          batch_size=2,\n",
    "                                          shuffle=False,\n",
    "                                          num_workers=1)"
   ]
  },
  {
   "cell_type": "code",
   "execution_count": 54,
   "metadata": {
    "collapsed": false
   },
   "outputs": [
    {
     "name": "stdout",
     "output_type": "stream",
     "text": [
      "prediction  tensor([0, 6])\n",
      "actual:     tensor([0, 0])\n",
      "prediction  tensor([6, 6])\n",
      "actual:     tensor([0, 0])\n",
      "prediction  tensor([5, 4])\n",
      "actual:     tensor([0, 1])\n",
      "prediction  tensor([6, 4])\n",
      "actual:     tensor([1, 1])\n",
      "prediction  tensor([5, 5])\n",
      "actual:     tensor([2, 2])\n",
      "prediction  tensor([5, 5])\n",
      "actual:     tensor([2, 3])\n",
      "prediction  tensor([5, 5])\n",
      "actual:     tensor([3, 3])\n",
      "prediction  tensor([5, 5])\n",
      "actual:     tensor([4, 4])\n",
      "prediction  tensor([6, 5])\n",
      "actual:     tensor([4, 5])\n",
      "prediction  tensor([6, 5])\n",
      "actual:     tensor([5, 5])\n",
      "prediction  tensor([6, 0])\n",
      "actual:     tensor([6, 6])\n",
      "prediction  tensor([5])\n",
      "actual:     tensor([6])\n",
      "Accuracy of Test Data: 17.39%\n"
     ]
    },
    {
     "name": "stderr",
     "output_type": "stream",
     "text": [
      "/Users/tgupta2/anaconda3/lib/python3.6/site-packages/ipykernel/__main__.py:22: UserWarning: Implicit dimension choice for softmax has been deprecated. Change the call to include dim=X as an argument.\n"
     ]
    }
   ],
   "source": [
    "correct = 0.0\n",
    "total = 0.0\n",
    "feature_net2 = torch.load('checkpoint_ckpt_48x48_35.t7')\n",
    "\n",
    "#y = torch.load('HackathonIII/exp_save_dict.t7')\n",
    "#z = LeNet()\n",
    "#z.load_state_dict(y)\n",
    "\n",
    "for mini_batch in test_loader_me:\n",
    "    images, labels = mini_batch\n",
    "    \n",
    "    # You can try with and without using GPUs, by setting this variable before the loop\n",
    "    #if use_gpu == \"cuda\":\n",
    "\n",
    "    \n",
    "    #images = images\n",
    "    \n",
    "    # Doing the Forward pass\n",
    "    #result = lenet(images)\n",
    "    result = lenet(images)\n",
    "    # Coverting the predictions to probabilities, by applying the softmax function\n",
    "    result = F.softmax(result)\n",
    " \n",
    "    # Finding the prediction with the largest probability\n",
    "    _,pred = torch.max(result.data,1)\n",
    "    print(\"prediction \" , pred)\n",
    "    print(\"actual:    \", labels)\n",
    "    total += labels.size(0)\n",
    "    # correct is incremented by the numer of prediction which are correct (equal to the ground truth labels)\n",
    "    correct += (pred == labels).sum().item()\n",
    "    \n",
    "print(\"Accuracy of Test Data: {0:.2f}%\".format(correct/total *100))"
   ]
  },
  {
   "cell_type": "code",
   "execution_count": 61,
   "metadata": {
    "collapsed": true
   },
   "outputs": [],
   "source": [
    "# A CNN based Feature extractor\n",
    "# Definining neural network in python by a class which inherits from nn.Module\n",
    "class LeNet2(nn.Module):\n",
    "    \"\"\"LeNet feature extractor model.\"\"\"\n",
    "\n",
    "    def __init__(self):\n",
    "        \"\"\"Init LeNet feature extractor model.\"\"\"\n",
    "        super(LeNet2, self).__init__()\n",
    "\n",
    "        # Defining the CNNfeature Extractor\n",
    "        self.feature_extractor = nn.Sequential(\n",
    "            # input [1 x 48 x 48]\n",
    "            # 1st conv layer\n",
    "            # Conv which convolves input image with 6 filters of 5x5 size, without padding\n",
    "            nn.Conv2d(3, 64, kernel_size=3),\n",
    "            nn.ReLU(),\n",
    "            # [64 x 46 x 46]\n",
    "            nn.Conv2d(64, 64, kernel_size=3),\n",
    "            nn.ReLU(),\n",
    "            # [64 x 44 x 44]\n",
    "            nn.Conv2d(64, 64, kernel_size=3),\n",
    "            nn.ReLU(),\n",
    "            # [64 x 42 x 42]\n",
    "            nn.MaxPool2d(kernel_size=2), # Max pooling subsampling operation\n",
    "            nn.Dropout(p=0.5),\n",
    "\n",
    "            # [32 x 21 x 21]\n",
    "            nn.Conv2d(64, 32, kernel_size=3),\n",
    "            nn.ReLU(),\n",
    "            # [32 x 19 x 19]\n",
    "            nn.Conv2d(32, 32, kernel_size=3),\n",
    "            nn.ReLU(),\n",
    "            # [32 x 17 x 17]\n",
    "            nn.Conv2d(32, 32, kernel_size=3),\n",
    "            nn.ReLU(),\n",
    "            # [32 x 15 x 15]\n",
    "            nn.MaxPool2d(kernel_size=2),\n",
    "            nn.Dropout(p=0.5)\n",
    "        )\n",
    "        \n",
    "        # Defining the Classifier\n",
    "        self.classifier = nn.Sequential(\n",
    "            # Linear layer with 120 nodes, taking a flattened [16 x 4 x 4] as input\n",
    "            nn.Linear(32 * 7 * 7, 128),\n",
    "            # Linear layer with 84 nodes\n",
    "            nn.Linear(128, 64),\n",
    "            # ReLU\n",
    "            nn.ReLU(),\n",
    "            # Output layer with as many nodes as number of classes\n",
    "            nn.Linear(64, 7)\n",
    "        )\n",
    "        \n",
    "    def forward(self, input):\n",
    "        \"\"\"Define a Forward pass of the LeNet.\"\"\"\n",
    "        out = self.feature_extractor(input) # Pass input through the feature extractor\n",
    "        out = out.view(-1, 32 * 7 * 7) # Reshape the 2D to a vector\n",
    "        out = self.classifier(out) # pass features through the classifier to get predictions\n",
    "        return out"
   ]
  },
  {
   "cell_type": "code",
   "execution_count": 55,
   "metadata": {
    "collapsed": true
   },
   "outputs": [],
   "source": [
    "torch.max?"
   ]
  },
  {
   "cell_type": "code",
   "execution_count": 57,
   "metadata": {
    "collapsed": false
   },
   "outputs": [
    {
     "name": "stdout",
     "output_type": "stream",
     "text": [
      "tensor([[0.1849, 0.8026, 0.5789]])\n"
     ]
    },
    {
     "data": {
      "text/plain": [
       "tensor(0.8026)"
      ]
     },
     "execution_count": 57,
     "metadata": {},
     "output_type": "execute_result"
    }
   ],
   "source": [
    "a = torch.rand(1,3)\n",
    "print(a)\n",
    "torch.max(a)"
   ]
  },
  {
   "cell_type": "code",
   "execution_count": 62,
   "metadata": {
    "collapsed": false
   },
   "outputs": [
    {
     "name": "stdout",
     "output_type": "stream",
     "text": [
      "tensor([[0.1849, 0.8026, 0.5789]])\n",
      "tensor([[0.1849, 0.8026, 0.5789]])\n"
     ]
    }
   ],
   "source": [
    "print(a)\n",
    "print(a.data)\n",
    "x, y= torch.max(a,1)"
   ]
  },
  {
   "cell_type": "code",
   "execution_count": 63,
   "metadata": {
    "collapsed": false
   },
   "outputs": [
    {
     "data": {
      "text/plain": [
       "1"
      ]
     },
     "execution_count": 63,
     "metadata": {},
     "output_type": "execute_result"
    }
   ],
   "source": [
    "y.item()"
   ]
  },
  {
   "cell_type": "code",
   "execution_count": null,
   "metadata": {
    "collapsed": true
   },
   "outputs": [],
   "source": []
  }
 ],
 "metadata": {
  "kernelspec": {
   "display_name": "Python 3",
   "language": "python",
   "name": "python3"
  },
  "language_info": {
   "codemirror_mode": {
    "name": "ipython",
    "version": 3
   },
   "file_extension": ".py",
   "mimetype": "text/x-python",
   "name": "python",
   "nbconvert_exporter": "python",
   "pygments_lexer": "ipython3",
   "version": "3.6.0"
  }
 },
 "nbformat": 4,
 "nbformat_minor": 2
}
